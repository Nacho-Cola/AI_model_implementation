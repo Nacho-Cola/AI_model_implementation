{
  "nbformat": 4,
  "nbformat_minor": 0,
  "metadata": {
    "colab": {
      "provenance": []
    },
    "kernelspec": {
      "name": "python3",
      "display_name": "Python 3"
    },
    "language_info": {
      "name": "python"
    }
  },
  "cells": [
    {
      "cell_type": "code",
      "source": [
        "x_train = np.array([1, 2, 3, 4, 5])  # 예시 입력 데이터\n",
        "y_train = np.array([2, 4, 6, 8, 10])  # 예시 출력 데이터\n",
        "\n",
        "\n",
        "W = 0.0\n",
        "b = 0.0\n",
        "\n",
        "n_data = len(x_train)\n",
        "epoch = 5000\n",
        "learning_rate = 0.01\n",
        "\n",
        "for i in range(epoch):\n",
        "  hypothesis = x_train * W + b\n",
        "  cost = np.sum((hypothesis - y_train) ** 2) / n_data\n",
        "  # 기울기 계산 수정\n",
        "  gradient_w = np.sum((hypothesis - y_train) * x_train) * 2 / n_data\n",
        "  gradient_b = np.sum(hypothesis - y_train) * 2 / n_data\n",
        "\n",
        "  # 파라미터 업데이트\n",
        "  W -= learning_rate * gradient_w\n",
        "  b -= learning_rate * gradient_b\n",
        "  if not i % 100 :\n",
        "    print(f'Epoch ({i}/{epoch}) cost: {cost}, W: {W}, b:{b}')\n",
        "\n",
        "print('W: {:10f}'.format(W))\n",
        "print('b: {:10f}'.format(b))\n",
        "print('result : ')\n",
        "print(x_train * W + b)"
      ],
      "metadata": {
        "colab": {
          "base_uri": "https://localhost:8080/"
        },
        "id": "yc07Jvhq_drn",
        "outputId": "b0dcb746-1be9-4758-e2c3-97218604791b"
      },
      "execution_count": 61,
      "outputs": [
        {
          "output_type": "stream",
          "name": "stdout",
          "text": [
            "Epoch (0/5000) cost: 44.0, W: 0.44, b:0.12\n",
            "Epoch (100/5000) cost: 0.02447442684930146, W: 1.898775997753122, b:0.36545076630285395\n",
            "Epoch (200/5000) cost: 0.012432209885934168, W: 1.927855802591494, b:0.26046344387458364\n",
            "Epoch (300/5000) cost: 0.006315156779752394, W: 1.9485815112589555, b:0.18563705935329852\n",
            "Epoch (400/5000) cost: 0.0032078934894731645, W: 1.9633531028220825, b:0.13230692680978884\n",
            "Epoch (500/5000) cost: 0.001629505172824526, W: 1.9738810862463791, b:0.09429756613702703\n",
            "Epoch (600/5000) cost: 0.0008277354335408341, W: 1.9813845725503834, b:0.06720759973626017\n",
            "Epoch (700/5000) cost: 0.0004204625792941973, W: 1.9867324444499956, b:0.04790008530809561\n",
            "Epoch (800/5000) cost: 0.00021358126452370824, W: 1.9905439705454586, b:0.034139266712792826\n",
            "Epoch (900/5000) cost: 0.00010849231014117063, W: 1.993260514892276, b:0.02433167966592831\n",
            "Epoch (1000/5000) cost: 5.511055188299796e-05, W: 1.995196645723706, b:0.017341633033479752\n",
            "Epoch (1100/5000) cost: 2.799436130446208e-05, W: 1.99657656157187, b:0.012359698976679843\n",
            "Epoch (1200/5000) cost: 1.4220221682934433e-05, W: 1.9975600528303652, b:0.008808983473426122\n",
            "Epoch (1300/5000) cost: 7.22340840401586e-06, W: 1.9982610050346776, b:0.006278323604927886\n",
            "Epoch (1400/5000) cost: 3.669255665250076e-06, W: 1.9987605864884899, b:0.0044746760403291275\n",
            "Epoch (1500/5000) cost: 1.8638620972179652e-06, W: 1.9991166473261013, b:0.0031891834390601528\n",
            "Epoch (1600/5000) cost: 9.467811006864668e-07, W: 1.9993704183960903, b:0.0022729893552756396\n",
            "Epoch (1700/5000) cost: 4.809338920272953e-07, W: 1.9995512856781965, b:0.0016200010779937836\n",
            "Epoch (1800/5000) cost: 2.442987173410954e-07, W: 1.9996801930975412, b:0.0011546043920571333\n",
            "Epoch (1900/5000) cost: 1.240957734190284e-07, W: 1.9997720677725435, b:0.0008229076636224453\n",
            "Epoch (2000/5000) cost: 6.30366018620526e-08, W: 1.9998375485334623, b:0.0005865013397721685\n",
            "Epoch (2100/5000) cost: 3.202053595251153e-08, W: 1.999884217869168, b:0.0004180102297751302\n",
            "Epoch (2200/5000) cost: 1.6265386971924615e-08, W: 1.999917479958133, b:0.00029792353460708735\n",
            "Epoch (2300/5000) cost: 8.262285607611727e-09, W: 1.9999411864571779, b:0.00021233555102382064\n",
            "Epoch (2400/5000) cost: 4.196971371137299e-09, W: 1.9999580825125505, b:0.00015133543003903238\n",
            "Epoch (2500/5000) cost: 2.13192444880983e-09, W: 1.9999701246401806, b:0.00010785952834885655\n",
            "Epoch (2600/5000) cost: 1.082948024577061e-09, W: 1.9999787072847477, b:7.687345820223873e-05\n",
            "Epoch (2700/5000) cost: 5.501022442654866e-10, W: 1.9999848242924756, b:5.4789119389218936e-05\n",
            "Epoch (2800/5000) cost: 2.794339823099368e-10, W: 1.9999891839957402, b:3.9049207277078475e-05\n",
            "Epoch (2900/5000) cost: 1.4194334105705562e-10, W: 1.9999922912359798, b:2.7831084090773368e-05\n",
            "Epoch (3000/5000) cost: 7.210258360191057e-11, W: 1.9999945058229183, b:1.98357225581942e-05\n",
            "Epoch (3100/5000) cost: 3.66257587247713e-11, W: 1.999996084199526, b:1.4137282188538165e-05\n",
            "Epoch (3200/5000) cost: 1.8604689805788243e-11, W: 1.9999972091373965, b:1.0075899533963387e-05\n",
            "Epoch (3300/5000) cost: 9.450575082115445e-12, W: 1.9999980109011881, b:7.181277848363102e-06\n",
            "Epoch (3400/5000) cost: 4.800583632315147e-12, W: 1.9999985823329036, b:5.11822804113661e-06\n",
            "Epoch (3500/5000) cost: 2.4385397719488366e-12, W: 1.9999989896027366, b:3.647854717990575e-06\n",
            "Epoch (3600/5000) cost: 1.238698600336391e-12, W: 1.999999279871394, b:2.599892763202952e-06\n",
            "Epoch (3700/5000) cost: 6.292184528823401e-13, W: 1.9999994867511741, b:1.8529911149896157e-06\n",
            "Epoch (3800/5000) cost: 3.1962243329189544e-13, W: 1.9999996341981763, b:1.3206606519977794e-06\n",
            "Epoch (3900/5000) cost: 1.6235776246451666e-13, W: 1.999999739286351, b:9.412589968596113e-07\n",
            "Epoch (4000/5000) cost: 8.24724430545248e-14, W: 1.999999814184615, b:6.708524991863189e-07\n",
            "Epoch (4100/5000) cost: 4.189330882472762e-14, W: 1.9999998675659771, b:4.781288435014175e-07\n",
            "Epoch (4200/5000) cost: 2.1280433332670037e-14, W: 1.9999999056118503, b:3.4077116976851014e-07\n",
            "Epoch (4300/5000) cost: 1.0809765406032389e-14, W: 1.9999999327278397, b:2.428738440505439e-07\n",
            "Epoch (4400/5000) cost: 5.4910079660252135e-15, W: 1.9999999520539011, b:1.7310063006538585e-07\n",
            "Epoch (4500/5000) cost: 2.7892527925810882e-15, W: 1.9999999658279384, b:1.233719846043412e-07\n",
            "Epoch (4600/5000) cost: 1.416849345630523e-15, W: 1.999999975644947, b:8.792946940962435e-08\n",
            "Epoch (4700/5000) cost: 7.197132418226425e-16, W: 1.9999999826417085, b:6.266894073815751e-08\n",
            "Epoch (4800/5000) cost: 3.6559081594166863e-16, W: 1.9999999876284282, b:4.466529994486151e-08\n",
            "Epoch (4900/5000) cost: 1.8570820834040435e-16, W: 1.9999999911825546, b:3.1833776044558566e-08\n",
            "W:   2.000000\n",
            "b:   0.000000\n",
            "result : \n",
            "[2.00000002 4.00000001 6.         8.         9.99999999]\n"
          ]
        }
      ]
    },
    {
      "cell_type": "code",
      "execution_count": 3,
      "metadata": {
        "colab": {
          "base_uri": "https://localhost:8080/"
        },
        "id": "ogEhf7Y_6cqI",
        "outputId": "06b63c8b-d458-4f18-894d-cb21621da08f"
      },
      "outputs": [
        {
          "output_type": "execute_result",
          "data": {
            "text/plain": [
              "5888"
            ]
          },
          "metadata": {},
          "execution_count": 3
        }
      ],
      "source": [
        "import os\n",
        "import numpy as np\n",
        "\n",
        "#os.system(\"curl -L -o ~/content/archive.zip https://www.kaggle.com/api/v1/datasets/download/nehalbirla/vehicle-dataset-from-cardekho\")"
      ]
    },
    {
      "cell_type": "code",
      "source": [
        "import kagglehub\n",
        "\n",
        "# Download latest version\n",
        "path = kagglehub.dataset_download(\"maryammanoochehry/car-data\")\n",
        "\n",
        "print(\"Path to dataset files:\", path)"
      ],
      "metadata": {
        "colab": {
          "base_uri": "https://localhost:8080/"
        },
        "id": "Z51PyjFi7Gy8",
        "outputId": "dd0be706-3247-419b-9584-ee6c5cb35131"
      },
      "execution_count": 10,
      "outputs": [
        {
          "output_type": "stream",
          "name": "stdout",
          "text": [
            "Downloading from https://www.kaggle.com/api/v1/datasets/download/maryammanoochehry/car-data?dataset_version_number=1...\n"
          ]
        },
        {
          "output_type": "stream",
          "name": "stderr",
          "text": [
            "100%|██████████| 3.77k/3.77k [00:00<00:00, 2.95MB/s]"
          ]
        },
        {
          "output_type": "stream",
          "name": "stdout",
          "text": [
            "Extracting files...\n",
            "Path to dataset files: /root/.cache/kagglehub/datasets/maryammanoochehry/car-data/versions/1\n"
          ]
        },
        {
          "output_type": "stream",
          "name": "stderr",
          "text": [
            "\n"
          ]
        }
      ]
    },
    {
      "cell_type": "code",
      "source": [
        "import pandas as pd\n",
        "\n",
        "data = pd.read_csv(\"/root/.cache/kagglehub/datasets/maryammanoochehry/car-data/versions/1/cardata.csv\")"
      ],
      "metadata": {
        "id": "6rzTF63L6eWO"
      },
      "execution_count": 11,
      "outputs": []
    },
    {
      "cell_type": "code",
      "source": [
        "data.head()"
      ],
      "metadata": {
        "colab": {
          "base_uri": "https://localhost:8080/",
          "height": 226
        },
        "id": "tZqJFOqG7TrR",
        "outputId": "0176ec3c-fac2-4f9c-e9da-2ec27ea100d6"
      },
      "execution_count": 22,
      "outputs": [
        {
          "output_type": "execute_result",
          "data": {
            "text/plain": [
              "  Car_Name  Year  Selling_Price  Present_Price  Kms_Driven Fuel_Type  \\\n",
              "0     ritz  2014           3.35           5.59       27000    Petrol   \n",
              "1      sx4  2013           4.75           9.54       43000    Diesel   \n",
              "2     ciaz  2017           7.25           9.85        6900    Petrol   \n",
              "3  wagon r  2011           2.85           4.15        5200    Petrol   \n",
              "4    swift  2014           4.60           6.87       42450    Diesel   \n",
              "\n",
              "  Seller_Type Transmission  Owner  \n",
              "0      Dealer       Manual      0  \n",
              "1      Dealer       Manual      0  \n",
              "2      Dealer       Manual      0  \n",
              "3      Dealer       Manual      0  \n",
              "4      Dealer       Manual      0  "
            ],
            "text/html": [
              "\n",
              "  <div id=\"df-914a7e24-852d-4e08-86f3-855c6c6aee31\" class=\"colab-df-container\">\n",
              "    <div>\n",
              "<style scoped>\n",
              "    .dataframe tbody tr th:only-of-type {\n",
              "        vertical-align: middle;\n",
              "    }\n",
              "\n",
              "    .dataframe tbody tr th {\n",
              "        vertical-align: top;\n",
              "    }\n",
              "\n",
              "    .dataframe thead th {\n",
              "        text-align: right;\n",
              "    }\n",
              "</style>\n",
              "<table border=\"1\" class=\"dataframe\">\n",
              "  <thead>\n",
              "    <tr style=\"text-align: right;\">\n",
              "      <th></th>\n",
              "      <th>Car_Name</th>\n",
              "      <th>Year</th>\n",
              "      <th>Selling_Price</th>\n",
              "      <th>Present_Price</th>\n",
              "      <th>Kms_Driven</th>\n",
              "      <th>Fuel_Type</th>\n",
              "      <th>Seller_Type</th>\n",
              "      <th>Transmission</th>\n",
              "      <th>Owner</th>\n",
              "    </tr>\n",
              "  </thead>\n",
              "  <tbody>\n",
              "    <tr>\n",
              "      <th>0</th>\n",
              "      <td>ritz</td>\n",
              "      <td>2014</td>\n",
              "      <td>3.35</td>\n",
              "      <td>5.59</td>\n",
              "      <td>27000</td>\n",
              "      <td>Petrol</td>\n",
              "      <td>Dealer</td>\n",
              "      <td>Manual</td>\n",
              "      <td>0</td>\n",
              "    </tr>\n",
              "    <tr>\n",
              "      <th>1</th>\n",
              "      <td>sx4</td>\n",
              "      <td>2013</td>\n",
              "      <td>4.75</td>\n",
              "      <td>9.54</td>\n",
              "      <td>43000</td>\n",
              "      <td>Diesel</td>\n",
              "      <td>Dealer</td>\n",
              "      <td>Manual</td>\n",
              "      <td>0</td>\n",
              "    </tr>\n",
              "    <tr>\n",
              "      <th>2</th>\n",
              "      <td>ciaz</td>\n",
              "      <td>2017</td>\n",
              "      <td>7.25</td>\n",
              "      <td>9.85</td>\n",
              "      <td>6900</td>\n",
              "      <td>Petrol</td>\n",
              "      <td>Dealer</td>\n",
              "      <td>Manual</td>\n",
              "      <td>0</td>\n",
              "    </tr>\n",
              "    <tr>\n",
              "      <th>3</th>\n",
              "      <td>wagon r</td>\n",
              "      <td>2011</td>\n",
              "      <td>2.85</td>\n",
              "      <td>4.15</td>\n",
              "      <td>5200</td>\n",
              "      <td>Petrol</td>\n",
              "      <td>Dealer</td>\n",
              "      <td>Manual</td>\n",
              "      <td>0</td>\n",
              "    </tr>\n",
              "    <tr>\n",
              "      <th>4</th>\n",
              "      <td>swift</td>\n",
              "      <td>2014</td>\n",
              "      <td>4.60</td>\n",
              "      <td>6.87</td>\n",
              "      <td>42450</td>\n",
              "      <td>Diesel</td>\n",
              "      <td>Dealer</td>\n",
              "      <td>Manual</td>\n",
              "      <td>0</td>\n",
              "    </tr>\n",
              "  </tbody>\n",
              "</table>\n",
              "</div>\n",
              "    <div class=\"colab-df-buttons\">\n",
              "\n",
              "  <div class=\"colab-df-container\">\n",
              "    <button class=\"colab-df-convert\" onclick=\"convertToInteractive('df-914a7e24-852d-4e08-86f3-855c6c6aee31')\"\n",
              "            title=\"Convert this dataframe to an interactive table.\"\n",
              "            style=\"display:none;\">\n",
              "\n",
              "  <svg xmlns=\"http://www.w3.org/2000/svg\" height=\"24px\" viewBox=\"0 -960 960 960\">\n",
              "    <path d=\"M120-120v-720h720v720H120Zm60-500h600v-160H180v160Zm220 220h160v-160H400v160Zm0 220h160v-160H400v160ZM180-400h160v-160H180v160Zm440 0h160v-160H620v160ZM180-180h160v-160H180v160Zm440 0h160v-160H620v160Z\"/>\n",
              "  </svg>\n",
              "    </button>\n",
              "\n",
              "  <style>\n",
              "    .colab-df-container {\n",
              "      display:flex;\n",
              "      gap: 12px;\n",
              "    }\n",
              "\n",
              "    .colab-df-convert {\n",
              "      background-color: #E8F0FE;\n",
              "      border: none;\n",
              "      border-radius: 50%;\n",
              "      cursor: pointer;\n",
              "      display: none;\n",
              "      fill: #1967D2;\n",
              "      height: 32px;\n",
              "      padding: 0 0 0 0;\n",
              "      width: 32px;\n",
              "    }\n",
              "\n",
              "    .colab-df-convert:hover {\n",
              "      background-color: #E2EBFA;\n",
              "      box-shadow: 0px 1px 2px rgba(60, 64, 67, 0.3), 0px 1px 3px 1px rgba(60, 64, 67, 0.15);\n",
              "      fill: #174EA6;\n",
              "    }\n",
              "\n",
              "    .colab-df-buttons div {\n",
              "      margin-bottom: 4px;\n",
              "    }\n",
              "\n",
              "    [theme=dark] .colab-df-convert {\n",
              "      background-color: #3B4455;\n",
              "      fill: #D2E3FC;\n",
              "    }\n",
              "\n",
              "    [theme=dark] .colab-df-convert:hover {\n",
              "      background-color: #434B5C;\n",
              "      box-shadow: 0px 1px 3px 1px rgba(0, 0, 0, 0.15);\n",
              "      filter: drop-shadow(0px 1px 2px rgba(0, 0, 0, 0.3));\n",
              "      fill: #FFFFFF;\n",
              "    }\n",
              "  </style>\n",
              "\n",
              "    <script>\n",
              "      const buttonEl =\n",
              "        document.querySelector('#df-914a7e24-852d-4e08-86f3-855c6c6aee31 button.colab-df-convert');\n",
              "      buttonEl.style.display =\n",
              "        google.colab.kernel.accessAllowed ? 'block' : 'none';\n",
              "\n",
              "      async function convertToInteractive(key) {\n",
              "        const element = document.querySelector('#df-914a7e24-852d-4e08-86f3-855c6c6aee31');\n",
              "        const dataTable =\n",
              "          await google.colab.kernel.invokeFunction('convertToInteractive',\n",
              "                                                    [key], {});\n",
              "        if (!dataTable) return;\n",
              "\n",
              "        const docLinkHtml = 'Like what you see? Visit the ' +\n",
              "          '<a target=\"_blank\" href=https://colab.research.google.com/notebooks/data_table.ipynb>data table notebook</a>'\n",
              "          + ' to learn more about interactive tables.';\n",
              "        element.innerHTML = '';\n",
              "        dataTable['output_type'] = 'display_data';\n",
              "        await google.colab.output.renderOutput(dataTable, element);\n",
              "        const docLink = document.createElement('div');\n",
              "        docLink.innerHTML = docLinkHtml;\n",
              "        element.appendChild(docLink);\n",
              "      }\n",
              "    </script>\n",
              "  </div>\n",
              "\n",
              "\n",
              "<div id=\"df-e6b3efb1-4d26-4ee7-8f41-a8a331752656\">\n",
              "  <button class=\"colab-df-quickchart\" onclick=\"quickchart('df-e6b3efb1-4d26-4ee7-8f41-a8a331752656')\"\n",
              "            title=\"Suggest charts\"\n",
              "            style=\"display:none;\">\n",
              "\n",
              "<svg xmlns=\"http://www.w3.org/2000/svg\" height=\"24px\"viewBox=\"0 0 24 24\"\n",
              "     width=\"24px\">\n",
              "    <g>\n",
              "        <path d=\"M19 3H5c-1.1 0-2 .9-2 2v14c0 1.1.9 2 2 2h14c1.1 0 2-.9 2-2V5c0-1.1-.9-2-2-2zM9 17H7v-7h2v7zm4 0h-2V7h2v10zm4 0h-2v-4h2v4z\"/>\n",
              "    </g>\n",
              "</svg>\n",
              "  </button>\n",
              "\n",
              "<style>\n",
              "  .colab-df-quickchart {\n",
              "      --bg-color: #E8F0FE;\n",
              "      --fill-color: #1967D2;\n",
              "      --hover-bg-color: #E2EBFA;\n",
              "      --hover-fill-color: #174EA6;\n",
              "      --disabled-fill-color: #AAA;\n",
              "      --disabled-bg-color: #DDD;\n",
              "  }\n",
              "\n",
              "  [theme=dark] .colab-df-quickchart {\n",
              "      --bg-color: #3B4455;\n",
              "      --fill-color: #D2E3FC;\n",
              "      --hover-bg-color: #434B5C;\n",
              "      --hover-fill-color: #FFFFFF;\n",
              "      --disabled-bg-color: #3B4455;\n",
              "      --disabled-fill-color: #666;\n",
              "  }\n",
              "\n",
              "  .colab-df-quickchart {\n",
              "    background-color: var(--bg-color);\n",
              "    border: none;\n",
              "    border-radius: 50%;\n",
              "    cursor: pointer;\n",
              "    display: none;\n",
              "    fill: var(--fill-color);\n",
              "    height: 32px;\n",
              "    padding: 0;\n",
              "    width: 32px;\n",
              "  }\n",
              "\n",
              "  .colab-df-quickchart:hover {\n",
              "    background-color: var(--hover-bg-color);\n",
              "    box-shadow: 0 1px 2px rgba(60, 64, 67, 0.3), 0 1px 3px 1px rgba(60, 64, 67, 0.15);\n",
              "    fill: var(--button-hover-fill-color);\n",
              "  }\n",
              "\n",
              "  .colab-df-quickchart-complete:disabled,\n",
              "  .colab-df-quickchart-complete:disabled:hover {\n",
              "    background-color: var(--disabled-bg-color);\n",
              "    fill: var(--disabled-fill-color);\n",
              "    box-shadow: none;\n",
              "  }\n",
              "\n",
              "  .colab-df-spinner {\n",
              "    border: 2px solid var(--fill-color);\n",
              "    border-color: transparent;\n",
              "    border-bottom-color: var(--fill-color);\n",
              "    animation:\n",
              "      spin 1s steps(1) infinite;\n",
              "  }\n",
              "\n",
              "  @keyframes spin {\n",
              "    0% {\n",
              "      border-color: transparent;\n",
              "      border-bottom-color: var(--fill-color);\n",
              "      border-left-color: var(--fill-color);\n",
              "    }\n",
              "    20% {\n",
              "      border-color: transparent;\n",
              "      border-left-color: var(--fill-color);\n",
              "      border-top-color: var(--fill-color);\n",
              "    }\n",
              "    30% {\n",
              "      border-color: transparent;\n",
              "      border-left-color: var(--fill-color);\n",
              "      border-top-color: var(--fill-color);\n",
              "      border-right-color: var(--fill-color);\n",
              "    }\n",
              "    40% {\n",
              "      border-color: transparent;\n",
              "      border-right-color: var(--fill-color);\n",
              "      border-top-color: var(--fill-color);\n",
              "    }\n",
              "    60% {\n",
              "      border-color: transparent;\n",
              "      border-right-color: var(--fill-color);\n",
              "    }\n",
              "    80% {\n",
              "      border-color: transparent;\n",
              "      border-right-color: var(--fill-color);\n",
              "      border-bottom-color: var(--fill-color);\n",
              "    }\n",
              "    90% {\n",
              "      border-color: transparent;\n",
              "      border-bottom-color: var(--fill-color);\n",
              "    }\n",
              "  }\n",
              "</style>\n",
              "\n",
              "  <script>\n",
              "    async function quickchart(key) {\n",
              "      const quickchartButtonEl =\n",
              "        document.querySelector('#' + key + ' button');\n",
              "      quickchartButtonEl.disabled = true;  // To prevent multiple clicks.\n",
              "      quickchartButtonEl.classList.add('colab-df-spinner');\n",
              "      try {\n",
              "        const charts = await google.colab.kernel.invokeFunction(\n",
              "            'suggestCharts', [key], {});\n",
              "      } catch (error) {\n",
              "        console.error('Error during call to suggestCharts:', error);\n",
              "      }\n",
              "      quickchartButtonEl.classList.remove('colab-df-spinner');\n",
              "      quickchartButtonEl.classList.add('colab-df-quickchart-complete');\n",
              "    }\n",
              "    (() => {\n",
              "      let quickchartButtonEl =\n",
              "        document.querySelector('#df-e6b3efb1-4d26-4ee7-8f41-a8a331752656 button');\n",
              "      quickchartButtonEl.style.display =\n",
              "        google.colab.kernel.accessAllowed ? 'block' : 'none';\n",
              "    })();\n",
              "  </script>\n",
              "</div>\n",
              "\n",
              "    </div>\n",
              "  </div>\n"
            ],
            "application/vnd.google.colaboratory.intrinsic+json": {
              "type": "dataframe",
              "variable_name": "data",
              "summary": "{\n  \"name\": \"data\",\n  \"rows\": 301,\n  \"fields\": [\n    {\n      \"column\": \"Car_Name\",\n      \"properties\": {\n        \"dtype\": \"category\",\n        \"num_unique_values\": 98,\n        \"samples\": [\n          \"Hero Passion Pro\",\n          \"Honda CB Hornet 160R\",\n          \"city\"\n        ],\n        \"semantic_type\": \"\",\n        \"description\": \"\"\n      }\n    },\n    {\n      \"column\": \"Year\",\n      \"properties\": {\n        \"dtype\": \"number\",\n        \"std\": 2,\n        \"min\": 2003,\n        \"max\": 2018,\n        \"num_unique_values\": 16,\n        \"samples\": [\n          2014,\n          2013,\n          2015\n        ],\n        \"semantic_type\": \"\",\n        \"description\": \"\"\n      }\n    },\n    {\n      \"column\": \"Selling_Price\",\n      \"properties\": {\n        \"dtype\": \"number\",\n        \"std\": 5.082811556177804,\n        \"min\": 0.1,\n        \"max\": 35.0,\n        \"num_unique_values\": 156,\n        \"samples\": [\n          0.4,\n          7.05,\n          0.9\n        ],\n        \"semantic_type\": \"\",\n        \"description\": \"\"\n      }\n    },\n    {\n      \"column\": \"Present_Price\",\n      \"properties\": {\n        \"dtype\": \"number\",\n        \"std\": 8.644115402015785,\n        \"min\": 0.32,\n        \"max\": 92.6,\n        \"num_unique_values\": 147,\n        \"samples\": [\n          7.6,\n          36.23,\n          11.8\n        ],\n        \"semantic_type\": \"\",\n        \"description\": \"\"\n      }\n    },\n    {\n      \"column\": \"Kms_Driven\",\n      \"properties\": {\n        \"dtype\": \"number\",\n        \"std\": 38886,\n        \"min\": 500,\n        \"max\": 500000,\n        \"num_unique_values\": 206,\n        \"samples\": [\n          41678,\n          42367,\n          60076\n        ],\n        \"semantic_type\": \"\",\n        \"description\": \"\"\n      }\n    },\n    {\n      \"column\": \"Fuel_Type\",\n      \"properties\": {\n        \"dtype\": \"category\",\n        \"num_unique_values\": 3,\n        \"samples\": [\n          \"Petrol\",\n          \"Diesel\",\n          \"CNG\"\n        ],\n        \"semantic_type\": \"\",\n        \"description\": \"\"\n      }\n    },\n    {\n      \"column\": \"Seller_Type\",\n      \"properties\": {\n        \"dtype\": \"category\",\n        \"num_unique_values\": 2,\n        \"samples\": [\n          \"Individual\",\n          \"Dealer\"\n        ],\n        \"semantic_type\": \"\",\n        \"description\": \"\"\n      }\n    },\n    {\n      \"column\": \"Transmission\",\n      \"properties\": {\n        \"dtype\": \"category\",\n        \"num_unique_values\": 2,\n        \"samples\": [\n          \"Automatic\",\n          \"Manual\"\n        ],\n        \"semantic_type\": \"\",\n        \"description\": \"\"\n      }\n    },\n    {\n      \"column\": \"Owner\",\n      \"properties\": {\n        \"dtype\": \"number\",\n        \"std\": 0,\n        \"min\": 0,\n        \"max\": 3,\n        \"num_unique_values\": 3,\n        \"samples\": [\n          0,\n          1\n        ],\n        \"semantic_type\": \"\",\n        \"description\": \"\"\n      }\n    }\n  ]\n}"
            }
          },
          "metadata": {},
          "execution_count": 22
        }
      ]
    },
    {
      "cell_type": "markdown",
      "source": [
        "- Car_Name : 차량 이름\n",
        "- Year : 발매 연도\n",
        "- Selling_Price : 판매 가격\n",
        "- Present_Price : 시장 가격\n",
        "- Kms_Driven : 구동 KM\n",
        "- Fuel_Type : 연료 종류\n",
        "- Seller_Type : 판매지\n",
        "- Transmission : 변속 방식\n",
        "- Owner : 이전 사용자 수"
      ],
      "metadata": {
        "id": "pFP-I_IO7szx"
      }
    },
    {
      "cell_type": "code",
      "source": [
        "# x = data.drop('Selling_Price',axis=1)\n",
        "# y = data.loc[:,'Selling_Price']\n",
        "\n",
        "x = data.drop(['Selling_Price','Fuel_Type','Seller_Type','Transmission','Car_Name'],axis=1)\n",
        "y = data.loc[:,'Selling_Price']"
      ],
      "metadata": {
        "id": "kgLrZnvZ7r7c"
      },
      "execution_count": 66,
      "outputs": []
    },
    {
      "cell_type": "code",
      "source": [
        "from sklearn.model_selection import train_test_split\n",
        "x_train, x_test, y_train, y_test = train_test_split(x, y, test_size=0.33, random_state=42)"
      ],
      "metadata": {
        "id": "LhNQo9DL7olY"
      },
      "execution_count": 67,
      "outputs": []
    },
    {
      "cell_type": "code",
      "source": [
        "x_train.shape, x_test.shape, y_train.shape, y_test.shape"
      ],
      "metadata": {
        "colab": {
          "base_uri": "https://localhost:8080/"
        },
        "id": "ZW7EICoJ71kq",
        "outputId": "a2162b99-242e-41d0-ea59-3e6dcf31a6af"
      },
      "execution_count": 68,
      "outputs": [
        {
          "output_type": "execute_result",
          "data": {
            "text/plain": [
              "((201, 4), (100, 4), (201,), (100,))"
            ]
          },
          "metadata": {},
          "execution_count": 68
        }
      ]
    },
    {
      "cell_type": "code",
      "source": [
        "# 선형 회귀 모델 클래스\n",
        "class LinearRegression:\n",
        "    def __init__(self):\n",
        "        self.theta = None\n",
        "\n",
        "    def fit(self, X, y):\n",
        "        # X에 bias 항 추가\n",
        "        # np.linalg.inv는 넘파이 선형대수 모듈(linalg)의 inv(역함수)\n",
        "        # .dot은 행렬 곱셈\n",
        "        X_b = np.c_[np.ones((X.shape[0], 1)), X]  # bias 항 추가\n",
        "        self.theta = np.linalg.inv(X_b.T.dot(X_b)).dot(X_b.T).dot(y)  # 정규 방정식\n",
        "\n",
        "    def predict(self, X):\n",
        "        X_b = np.c_[np.ones((X.shape[0], 1)), X]  # bias 항 추가\n",
        "        return X_b.dot(self.theta)\n",
        "\n",
        "# 모델 학습\n",
        "model = LinearRegression()\n",
        "model.fit(x_train, y_train)\n",
        "\n",
        "# 예측\n",
        "y_predict = model.predict(x_test)\n"
      ],
      "metadata": {
        "id": "QeVrg_ln8JQ8"
      },
      "execution_count": 69,
      "outputs": []
    },
    {
      "cell_type": "code",
      "source": [
        "def mean_squared_error(y_true, y_pred):\n",
        "    return np.mean((y_true - y_pred) ** 2)\n",
        "\n",
        "mse = mean_squared_error(y_test, model.predict(x_test))\n",
        "print(f'Mean Squared Error: {mse}')\n",
        "\n"
      ],
      "metadata": {
        "colab": {
          "base_uri": "https://localhost:8080/"
        },
        "id": "LIsC1uu99vpu",
        "outputId": "1b09604f-35c0-4c2c-cccf-2ae0e691e7df"
      },
      "execution_count": 70,
      "outputs": [
        {
          "output_type": "stream",
          "name": "stdout",
          "text": [
            "Mean Squared Error: 4.02424520742606\n"
          ]
        }
      ]
    },
    {
      "cell_type": "code",
      "source": [
        "m = 100\n",
        "# -3~3 범위를 가진 100개의 균일분포 data\n",
        "X = 6 * np.random.rand(m, 1) - 3\n",
        "Y = 0.5 * X**2 + X + 2 + np.random.randn(m,1)\n",
        "\n",
        "plt.scatter(X,Y)\n",
        "plt.show()"
      ],
      "metadata": {
        "id": "tx49S1pN_-U0"
      },
      "execution_count": null,
      "outputs": []
    },
    {
      "cell_type": "code",
      "source": [
        "#linear regression에서 scalar column을 concatenate시켜준 것 처럼\n",
        "# 이번엔 X^2항 column까지 concatenate 시켜준다\n",
        "\n",
        "X_poly = np.array(X**2)\n",
        "X_poly = np.c_[np.ones((100,1)), X, X_poly]\n",
        "\n",
        "# np.linalg를 통해 정규방적식 계산\n",
        "theta_best = np.linalg.inv(X_poly.T.dot(X_poly)).dot(X_poly.T).dot(Y)\n",
        "theta_best\n",
        "# theta_best[0] :theta_0 (bias)\n",
        "# theta_best[0] :theta_1\n",
        "# theta_best[0] :theta_2"
      ],
      "metadata": {
        "colab": {
          "base_uri": "https://localhost:8080/"
        },
        "id": "IyEe7it9D8Sj",
        "outputId": "1126607a-8ded-4968-b52d-8317671c988b"
      },
      "execution_count": 59,
      "outputs": [
        {
          "output_type": "execute_result",
          "data": {
            "text/plain": [
              "array([[2.05199841],\n",
              "       [0.91233   ],\n",
              "       [0.50946884]])"
            ]
          },
          "metadata": {},
          "execution_count": 59
        }
      ]
    },
    {
      "cell_type": "code",
      "source": [
        "#predict 에 사용될 X data\n",
        "X_new=np.linspace(-3, 3, 100).reshape(100, 1)\n",
        "X_new_p = np.c_[np.ones((100,1)), X_new, X_new ** 2]\n",
        "y_predict = X_new_p.dot(theta_best)\n",
        "\n",
        "plt.plot(X_new, y_predict, 'r-')\n",
        "plt.scatter(X,Y)"
      ],
      "metadata": {
        "collapsed": true,
        "id": "CoYWlJlQEAb3"
      },
      "execution_count": null,
      "outputs": []
    },
    {
      "cell_type": "markdown",
      "source": [
        "# pytorch"
      ],
      "metadata": {
        "id": "6o8wZT6BKhC2"
      }
    },
    {
      "cell_type": "code",
      "source": [
        "import torch\n",
        "import numpy as np\n",
        "import matplotlib.pyplot as plt\n",
        "\n",
        "# 데이터 생성\n",
        "torch.manual_seed(0)\n",
        "X = torch.linspace(0, 10, 100).reshape(-1, 1)  # 입력 데이터 (100, 1)\n",
        "y = 3 * X + 4 + torch.randn(100, 1) * 2  # 출력 데이터 (100, 1)\n",
        "\n",
        "# 시각화\n",
        "plt.scatter(X.numpy(), y.numpy())\n",
        "plt.xlabel('X')\n",
        "plt.ylabel('y')\n",
        "plt.title('Generated Data')\n",
        "plt.show()"
      ],
      "metadata": {
        "colab": {
          "base_uri": "https://localhost:8080/",
          "height": 472
        },
        "id": "ifUrieXOEDi5",
        "outputId": "a593cd44-1c2a-476d-eb05-22f1ab1a076a"
      },
      "execution_count": 1,
      "outputs": [
        {
          "output_type": "display_data",
          "data": {
            "text/plain": [
              "<Figure size 640x480 with 1 Axes>"
            ],
            "image/png": "[encoded data removed]"
          },
          "metadata": {}
        }
      ]
    },
    {
      "cell_type": "code",
      "source": [
        "import torch.nn as nn\n",
        "\n",
        "class LinearRegessionModel(nn.Module):\n",
        "  def __init__(self):\n",
        "    super(LinearRegessionModel, self).__init__()\n",
        "    self.linear = nn.Linear(1, 1)  # 입력 1개, 출력 1개\n",
        "\n",
        "  def forward(self,x):\n",
        "    return self.linear(x)\n",
        "\n",
        "model = LinearRegessionModel()"
      ],
      "metadata": {
        "id": "cfImDO5KK0ON"
      },
      "execution_count": 4,
      "outputs": []
    },
    {
      "cell_type": "code",
      "source": [
        "# 손실 함수와 옵티마이저\n",
        "criterion = nn.MSELoss()\n",
        "optimizer = torch.optim.SGD(model.parameters(), lr=0.01)"
      ],
      "metadata": {
        "id": "Co_uBpjtK4DK"
      },
      "execution_count": 5,
      "outputs": []
    },
    {
      "cell_type": "code",
      "source": [
        "# 학습 루프\n",
        "num_epochs = 200\n",
        "for epoch in range(num_epochs):\n",
        "    # 순전파 단계: 예측값 계산\n",
        "    y_pred = model(X)\n",
        "\n",
        "    # 손실 계산\n",
        "    loss = criterion(y_pred, y)\n",
        "\n",
        "    # 역전파 및 가중치 업데이트\n",
        "    optimizer.zero_grad()\n",
        "    loss.backward()\n",
        "    optimizer.step()\n",
        "\n",
        "    # 진행 상황 출력\n",
        "    if (epoch + 1) % 20 == 0:\n",
        "        print(f\"Epoch [{epoch+1}/{num_epochs}], Loss: {loss.item():.4f}\")\n"
      ],
      "metadata": {
        "colab": {
          "base_uri": "https://localhost:8080/"
        },
        "id": "QWzjnA6t4m9J",
        "outputId": "9f814d92-b9c0-4539-8478-260c98eedd35"
      },
      "execution_count": 6,
      "outputs": [
        {
          "output_type": "stream",
          "name": "stdout",
          "text": [
            "Epoch [20/200], Loss: 6.7203\n",
            "Epoch [40/200], Loss: 6.2650\n",
            "Epoch [60/200], Loss: 5.8919\n",
            "Epoch [80/200], Loss: 5.5861\n",
            "Epoch [100/200], Loss: 5.3356\n",
            "Epoch [120/200], Loss: 5.1302\n",
            "Epoch [140/200], Loss: 4.9619\n",
            "Epoch [160/200], Loss: 4.8240\n",
            "Epoch [180/200], Loss: 4.7110\n",
            "Epoch [200/200], Loss: 4.6184\n"
          ]
        }
      ]
    },
    {
      "cell_type": "code",
      "source": [
        "# 학습 후 예측 결과 시각화\n",
        "predicted = model(X).detach()  # 예측값 계산 및 그래프 그리기\n",
        "\n",
        "plt.scatter(X.numpy(), y.numpy(), label='Original data')\n",
        "plt.plot(X.numpy(), predicted.numpy(), 'r-', label='Fitted line')\n",
        "plt.xlabel('X')\n",
        "plt.ylabel('y')\n",
        "plt.legend()\n",
        "plt.title('Linear Regression Result')\n",
        "plt.show()\n"
      ],
      "metadata": {
        "colab": {
          "base_uri": "https://localhost:8080/",
          "height": 472
        },
        "id": "t9S7-kOB4siM",
        "outputId": "322b934b-0bea-4d40-c2fd-93e0cf755419"
      },
      "execution_count": 7,
      "outputs": [
        {
          "output_type": "display_data",
          "data": {
            "text/plain": [
              "<Figure size 640x480 with 1 Axes>"
            ],
            "image/png": "[encoded data removed]"
          },
          "metadata": {}
        }
      ]
    },
    {
      "cell_type": "code",
      "source": [
        "# 학습된 모델 파라미터 출력\n",
        "[weight], [bias] = model.parameters()\n",
        "print(f\"Learned weight: {weight.item():.4f}, Learned bias: {bias.item():.4f}\")\n"
      ],
      "metadata": {
        "colab": {
          "base_uri": "https://localhost:8080/"
        },
        "id": "T4p6PeTY4ujT",
        "outputId": "8d811d8e-6ae5-4173-b3b1-665b7af6bfcc"
      },
      "execution_count": 8,
      "outputs": [
        {
          "output_type": "stream",
          "name": "stdout",
          "text": [
            "Learned weight: 3.1920, Learned bias: 2.7962\n"
          ]
        }
      ]
    },
    {
      "cell_type": "code",
      "source": [
        "x = data.drop(['Selling_Price','Fuel_Type','Seller_Type','Transmission','Car_Name'],axis=1)\n",
        "y = data.loc[:,'Selling_Price']\n",
        "\n",
        "from sklearn.model_selection import train_test_split\n",
        "from sklearn.preprocessing import StandardScaler\n",
        "\n",
        "x_train, x_test, y_train, y_test = train_test_split(x, y, test_size=0.33, random_state=42)\n",
        "\n",
        "scaler_x = StandardScaler()\n",
        "scaler_y = StandardScaler()\n",
        "\n",
        "x_train = torch.tensor(scaler_x.fit_transform(x_train.to_numpy()), dtype=torch.float32)\n",
        "y_train = torch.tensor(scaler_y.fit_transform(y_train.to_numpy().reshape(-1, 1)), dtype=torch.float32)\n",
        "x_test = torch.tensor(scaler_x.transform(x_test.to_numpy()), dtype=torch.float32)\n",
        "y_test = torch.tensor(scaler_y.transform(y_test.to_numpy().reshape(-1, 1)), dtype=torch.float32)\n"
      ],
      "metadata": {
        "id": "8XV3T-vd5_pD"
      },
      "execution_count": 80,
      "outputs": []
    },
    {
      "cell_type": "code",
      "source": [
        "x_train.shape, x_test.shape, y_train.shape, y_test.shape"
      ],
      "metadata": {
        "colab": {
          "base_uri": "https://localhost:8080/"
        },
        "outputId": "b3c906fb-09bf-4d76-a10e-1768dd34293d",
        "id": "MyZ2jhlh5_pF"
      },
      "execution_count": 72,
      "outputs": [
        {
          "output_type": "execute_result",
          "data": {
            "text/plain": [
              "((201, 4), (100, 4), (201,), (100,))"
            ]
          },
          "metadata": {},
          "execution_count": 72
        }
      ]
    },
    {
      "cell_type": "code",
      "source": [
        "import torch\n",
        "import torch.nn\n",
        "import numpy as np\n",
        "import matplotlib.pyplot as plt\n",
        "\n",
        "class MultipleLinearRegressionModel(nn.Module):\n",
        "  def __init__(self):\n",
        "    super(MultipleLinearRegressionModel, self).__init__()\n",
        "    self.linear = nn.Linear(4, 1) # 입력 4, 출력 1\n",
        "\n",
        "  def forward(self, X):\n",
        "    return self.linear(X)\n",
        "\n",
        "model = MultipleLinearRegressionModel()\n",
        "criterion = nn.MSELoss()\n",
        "optimizer = torch.optim.SGD(model.parameters(), lr=0.001)\n",
        "\n",
        "num_epoch = 2000\n",
        "for epoch in range(num_epoch):\n",
        "  y_pred = model(x_train)\n",
        "  loss = criterion(y_pred, y_train)\n",
        "  optimizer.zero_grad()    # 기울기 초기화\n",
        "  loss.backward()          # 역전파\n",
        "  optimizer.step()\n",
        "  if (epoch + 1) % 200 == 0:\n",
        "        print(f\"Epoch [{epoch+1}/{num_epoch}], Loss: {loss.item():.4f}\")\n",
        "\n",
        "# 학습된 모델 파라미터 출력\n",
        "[weights, bias] = model.parameters()\n",
        "print(f\"Learned weights: {weights.data}, Learned bias: {bias.data}\")\n"
      ],
      "metadata": {
        "colab": {
          "base_uri": "https://localhost:8080/"
        },
        "id": "IaIvHVJo6HCL",
        "outputId": "8625b0a5-91fa-4016-b66b-ab24d01582cb"
      },
      "execution_count": 89,
      "outputs": [
        {
          "output_type": "stream",
          "name": "stdout",
          "text": [
            "Epoch [200/2000], Loss: 0.3584\n",
            "Epoch [400/2000], Loss: 0.2542\n",
            "Epoch [600/2000], Loss: 0.2037\n",
            "Epoch [800/2000], Loss: 0.1787\n",
            "Epoch [1000/2000], Loss: 0.1660\n",
            "Epoch [1200/2000], Loss: 0.1592\n",
            "Epoch [1400/2000], Loss: 0.1555\n",
            "Epoch [1600/2000], Loss: 0.1533\n",
            "Epoch [1800/2000], Loss: 0.1519\n",
            "Epoch [2000/2000], Loss: 0.1511\n",
            "Learned weights: tensor([[ 0.2722,  0.8714,  0.0302, -0.0718]]), Learned bias: tensor([-0.0019])\n"
          ]
        }
      ]
    },
    {
      "cell_type": "code",
      "source": [
        "model.eval()  # 평가 모드로 전환\n",
        "with torch.no_grad():\n",
        "    y_test_pred = model(x_test)\n",
        "    test_loss = criterion(y_test_pred, y_test)\n",
        "    print(f\"Test Loss: {test_loss.item():.4f}\")\n"
      ],
      "metadata": {
        "colab": {
          "base_uri": "https://localhost:8080/"
        },
        "id": "MuWn2Ny4_ctr",
        "outputId": "2b110648-f98f-4c31-e65f-06115c3d9899"
      },
      "execution_count": 90,
      "outputs": [
        {
          "output_type": "stream",
          "name": "stdout",
          "text": [
            "Test Loss: 0.1661\n"
          ]
        }
      ]
    },
    {
      "cell_type": "code",
      "source": [],
      "metadata": {
        "id": "C1ReuYdF_nHp"
      },
      "execution_count": null,
      "outputs": []
    }
  ]
}