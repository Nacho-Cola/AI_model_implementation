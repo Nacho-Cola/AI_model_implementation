{
  "nbformat": 4,
  "nbformat_minor": 0,
  "metadata": {
    "colab": {
      "provenance": []
    },
    "kernelspec": {
      "name": "python3",
      "display_name": "Python 3"
    },
    "language_info": {
      "name": "python"
    }
  },
  "cells": [
    {
      "cell_type": "code",
      "execution_count": null,
      "metadata": {
        "colab": {
          "base_uri": "https://localhost:8080/"
        },
        "id": "doyys_ReVdlv",
        "outputId": "e8c14fc4-a518-4f71-f76a-d43d19a89451"
      },
      "outputs": [
        {
          "output_type": "stream",
          "name": "stdout",
          "text": [
            "Downloading data from https://storage.googleapis.com/tensorflow/tf-keras-datasets/mnist.npz\n",
            "\u001b[1m11490434/11490434\u001b[0m \u001b[32m━━━━━━━━━━━━━━━━━━━━\u001b[0m\u001b[37m\u001b[0m \u001b[1m0s\u001b[0m 0us/step\n"
          ]
        }
      ],
      "source": [
        "import numpy as np\n",
        "import matplotlib.pyplot as plt\n",
        "from tensorflow.keras.datasets import mnist\n",
        "\n",
        "# MNIST 데이터셋 로드\n",
        "(x_train, y_train), (x_test, y_test) = mnist.load_data()\n",
        "\n",
        "# 데이터 전처리\n",
        "x_train = x_train.reshape(-1, 28*28) / 255.0\n",
        "x_test = x_test.reshape(-1, 28*28) / 255.0"
      ]
    },
    {
      "cell_type": "code",
      "source": [
        "class MLP:\n",
        "  def __init__(self, input_size, hidden_size, output_size):\n",
        "    self.W1 = np.random.randn(input_size,hidden_size) * .01\n",
        "    self.b1 = np.zeros((1,hidden_size))\n",
        "    self.W2 = np.random.randn(hidden_size,output_size) * .01\n",
        "    self.b2 = np.zeros((1,output_size))\n",
        "\n",
        "  def relu(self,z):\n",
        "    return np.maximum(0,z)\n",
        "\n",
        "  def relu_derivative(self, z):\n",
        "    return (z > 0).astype(float)\n",
        "\n",
        "  def forward(self, X):\n",
        "    self.Z1 = np.dot(X, self.W1) + self.b1\n",
        "    self.A1 = self.relu(self.Z1)\n",
        "    self.Z2 = np.dot(self.A1, self.W2) + self.b2\n",
        "    return self.Z2\n",
        "\n",
        "  def softmax(self, z):\n",
        "    exp_z = np.exp(z - np.max(z, axis=1, keepdims=True))\n",
        "    return exp_z / np.sum(exp_z, axis=1, keepdims=True)\n",
        "\n",
        "  def compute_loss(self, y_pred, y_true):\n",
        "    m = y_true.shape[0]\n",
        "    log_likelihood = -np.log(y_pred[range(m), y_true])\n",
        "    return np.sum(log_likelihood) / m\n",
        "\n",
        "  def backward(self, X, y_true, learning_rate=0.01):\n",
        "    m = X.shape[0]\n",
        "    y_pred = self.softmax(self.Z2)\n",
        "    # 손실의 그래디언트\n",
        "    y_pred[range(m), y_true] -= 1\n",
        "    y_pred /= m\n",
        "\n",
        "    # 가중치 업데이트\n",
        "    dW2 = np.dot(self.A1.T, y_pred)\n",
        "    db2 = np.sum(y_pred, axis=0, keepdims=True)\n",
        "\n",
        "    dA1 = np.dot(y_pred, self.W2.T)\n",
        "    dZ1 = dA1 * self.relu_derivative(self.Z1)\n",
        "\n",
        "    dW1 = np.dot(X.T, dZ1)\n",
        "    db1 = np.sum(dZ1, axis=0, keepdims=True)\n",
        "\n",
        "    # 가중치 갱신\n",
        "    self.W2 -= learning_rate * dW2\n",
        "    self.b2 -= learning_rate * db2\n",
        "    self.W1 -= learning_rate * dW1\n",
        "    self.b1 -= learning_rate * db1\n",
        "\n",
        "  def train(self, X, y, epochs=1000, learning_rate=0.01):\n",
        "    for epoch in range(epochs):\n",
        "      self.forward(X)\n",
        "      self.backward(X, y, learning_rate)\n",
        "      if epoch % 100 == 0:\n",
        "        loss = self.compute_loss(self.softmax(self.Z2), y)\n",
        "        print(f'Epoch {epoch}, Loss: {loss}')\n",
        "\n",
        "  def predict(self, X):\n",
        "    logits = self.forward(X)\n",
        "    return np.argmax(self.softmax(logits), axis=1)\n"
      ],
      "metadata": {
        "id": "vrdZr882jK-7"
      },
      "execution_count": null,
      "outputs": []
    },
    {
      "cell_type": "code",
      "source": [
        "# MLP 모델 인스턴스 생성\n",
        "mlp = MLP(input_size=28*28, hidden_size=128, output_size=10)\n",
        "\n",
        "# 모델 학습\n",
        "mlp.train(x_train, y_train, epochs=1000, learning_rate=0.01)\n",
        "\n",
        "# 테스트 데이터로 예측\n",
        "y_pred = mlp.predict(x_test)\n",
        "\n",
        "# 정확도 평가\n",
        "accuracy = np.mean(y_pred == y_test)\n",
        "print(f'Accuracy: {accuracy * 100:.2f}%')\n"
      ],
      "metadata": {
        "colab": {
          "base_uri": "https://localhost:8080/"
        },
        "id": "U3jtCvL7ZMs3",
        "outputId": "3c93de4f-3478-4489-ab22-6f1ad54ed6b1"
      },
      "execution_count": null,
      "outputs": [
        {
          "output_type": "stream",
          "name": "stdout",
          "text": [
            "Epoch 0, Loss: 2.30271909683334\n",
            "Epoch 100, Loss: 2.2905035213504075\n",
            "Epoch 200, Loss: 2.267653738627232\n",
            "Epoch 300, Loss: 2.218538579113052\n",
            "Epoch 400, Loss: 2.1195087562826838\n",
            "Epoch 500, Loss: 1.9479000941499705\n",
            "Epoch 600, Loss: 1.7082852330186282\n",
            "Epoch 700, Loss: 1.4489135964880073\n",
            "Epoch 800, Loss: 1.2242768929621948\n",
            "Epoch 900, Loss: 1.052162650632582\n",
            "Accuracy: 79.98%\n"
          ]
        }
      ]
    },
    {
      "cell_type": "code",
      "source": [
        "# 예시 이미지와 예측 결과 시각화\n",
        "def plot_mnist_examples(X, y_true, y_pred, n=10):\n",
        "    plt.figure(figsize=(12, 4))\n",
        "    for i in range(n):\n",
        "        plt.subplot(2, n, i + 1)\n",
        "        plt.imshow(X[i].reshape(28, 28), cmap='gray')\n",
        "        plt.title(f'True: {y_true[i]}, Pred: {y_pred[i]}')\n",
        "        plt.axis('off')\n",
        "    plt.show()\n",
        "\n",
        "plot_mnist_examples(x_test, y_test, y_pred)\n"
      ],
      "metadata": {
        "colab": {
          "base_uri": "https://localhost:8080/",
          "height": 138
        },
        "id": "Xb8RVwBOZPdv",
        "outputId": "1fde3ae2-22d6-4928-a3d8-a87a5fd2c857"
      },
      "execution_count": null,
      "outputs": [
        {
          "output_type": "display_data",
          "data": {
            "text/plain": [
              "<Figure size 1200x400 with 10 Axes>"
            ],
            "image/png": "[encoded data removed]"
          },
          "metadata": {}
        }
      ]
    },
    {
      "cell_type": "code",
      "source": [],
      "metadata": {
        "id": "ebRpYuwvaLwT"
      },
      "execution_count": null,
      "outputs": []
    },
    {
      "cell_type": "markdown",
      "source": [
        "# torch"
      ],
      "metadata": {
        "id": "I9qZsYAWVMpt"
      }
    },
    {
      "cell_type": "code",
      "source": [
        "import numpy as np\n",
        "import matplotlib.pyplot as plt\n",
        "from keras.datasets import mnist\n",
        "\n",
        "# MNIST 데이터셋 로드\n",
        "(x_train, y_train), (x_test, y_test) = mnist.load_data()\n",
        "\n",
        "# 데이터 전처리\n",
        "x_train = x_train.reshape(-1, 28*28) / 255.0\n",
        "x_test = x_test.reshape(-1, 28*28) / 255.0\n",
        "\n",
        "\n",
        "# 이진 분류가 아닌 다중 클래스 분류를 위한 PyTorch 텐서로 변환합니다.\n",
        "x_train = torch.tensor(x_train, dtype=torch.float32)\n",
        "y_train = torch.tensor(y_train, dtype=torch.long)  # 정수 레이블로 변환\n",
        "x_test = torch.tensor(x_test, dtype=torch.float32)\n",
        "y_test = torch.tensor(y_test, dtype=torch.long)"
      ],
      "metadata": {
        "id": "oHx4twABnbQJ"
      },
      "execution_count": null,
      "outputs": []
    },
    {
      "cell_type": "code",
      "source": [
        "from torch.utils.data import TensorDataset, DataLoader\n",
        "\n",
        "# TensorDataset을 사용하여 x와 y를 묶어서 DataLoader에 전달합니다.\n",
        "train_dataset = TensorDataset(x_train, y_train)\n",
        "test_dataset = TensorDataset(x_test, y_test)\n",
        "\n",
        "train_loader = DataLoader(dataset=train_dataset, batch_size=64, shuffle=True)\n",
        "test_loader = DataLoader(dataset=test_dataset, batch_size=64, shuffle=False)\n"
      ],
      "metadata": {
        "id": "xFr6UI-qz7x7"
      },
      "execution_count": null,
      "outputs": []
    },
    {
      "cell_type": "code",
      "source": [
        "import torch\n",
        "import torch.nn as nn\n",
        "import numpy as np\n",
        "import matplotlib.pyplot as plt\n",
        "\n",
        "class MLP(nn.Module):\n",
        "  def __init__(self, input_dim, hidden_dim,output_dim):\n",
        "    super(MLP,self).__init__()\n",
        "\n",
        "    self.layer1 = nn.Linear(input_dim, hidden_dim)\n",
        "\n",
        "    self.layer2 = nn.Linear(hidden_dim, hidden_dim)\n",
        "\n",
        "    self.layer3 = nn.Linear(hidden_dim, output_dim)\n",
        "\n",
        "    self.relu = nn.ReLU()\n",
        "\n",
        "  def forward(self, x):\n",
        "\n",
        "    x = self.relu(self.layer1(x))\n",
        "    x = self.relu(self.layer2(x))\n",
        "    x = self.layer3(x)\n",
        "\n",
        "    return x\n"
      ],
      "metadata": {
        "id": "0Y7RqZm2VPBC"
      },
      "execution_count": null,
      "outputs": []
    },
    {
      "cell_type": "code",
      "source": [],
      "metadata": {
        "id": "XIFSi9qw2DP4"
      },
      "execution_count": null,
      "outputs": []
    },
    {
      "cell_type": "code",
      "source": [
        "model = MLP(28*28, 256, 10)"
      ],
      "metadata": {
        "id": "CszXtTutmHum"
      },
      "execution_count": null,
      "outputs": []
    },
    {
      "cell_type": "code",
      "source": [
        "criterion = nn.CrossEntropyLoss()\n",
        "optimizer = torch.optim.Adam(model.parameters(), lr=0.001)"
      ],
      "metadata": {
        "id": "ZmKGHNk5nW6r"
      },
      "execution_count": null,
      "outputs": []
    },
    {
      "cell_type": "code",
      "source": [
        "num_epochs = 10\n",
        "for epoch in range(num_epochs):\n",
        "  for images, labels in train_loader:\n",
        "    output = model(images)\n",
        "    loss = criterion(output, labels)\n",
        "\n",
        "    optimizer.zero_grad()\n",
        "    loss.backward()\n",
        "    optimizer.step()\n",
        "\n",
        "  print(f\"Epoch [{epoch+1}/{num_epochs}], Loss: {loss.item():.4f}\")"
      ],
      "metadata": {
        "colab": {
          "base_uri": "https://localhost:8080/"
        },
        "id": "-UhccJqXpax5",
        "outputId": "a7fcc5bc-4e99-4b38-d8e7-98e1e7a23a78"
      },
      "execution_count": null,
      "outputs": [
        {
          "output_type": "stream",
          "name": "stdout",
          "text": [
            "Epoch [1/10], Loss: 0.0744\n",
            "Epoch [2/10], Loss: 0.0391\n",
            "Epoch [3/10], Loss: 0.0458\n",
            "Epoch [4/10], Loss: 0.0999\n",
            "Epoch [5/10], Loss: 0.0307\n",
            "Epoch [6/10], Loss: 0.0320\n",
            "Epoch [7/10], Loss: 0.0007\n",
            "Epoch [8/10], Loss: 0.0027\n",
            "Epoch [9/10], Loss: 0.2729\n",
            "Epoch [10/10], Loss: 0.0041\n"
          ]
        }
      ]
    },
    {
      "cell_type": "code",
      "source": [
        "model.eval()\n",
        "correct = 0\n",
        "total = 0\n",
        "with torch.no_grad():\n",
        "    for images, labels in test_loader:\n",
        "        outputs = model(images)\n",
        "        _, predicted = torch.max(outputs.data, 1)\n",
        "        total += labels.size(0)\n",
        "        correct += (predicted == labels).sum().item()\n",
        "\n",
        "accuracy = 100 * correct / total\n",
        "print(f'Accuracy of the model on the 10,000 test images: {accuracy:.2f}%')\n"
      ],
      "metadata": {
        "colab": {
          "base_uri": "https://localhost:8080/"
        },
        "id": "Jmy_91LOvg_L",
        "outputId": "67872d13-6839-4ffe-b81f-06b127d7555c"
      },
      "execution_count": null,
      "outputs": [
        {
          "output_type": "stream",
          "name": "stdout",
          "text": [
            "Accuracy of the model on the 10,000 test images: 98.10%\n"
          ]
        }
      ]
    },
    {
      "cell_type": "code",
      "source": [],
      "metadata": {
        "colab": {
          "base_uri": "https://localhost:8080/"
        },
        "id": "REaIxTXKvhT2",
        "outputId": "47e17e62-4907-43d9-c8a7-eafbc9094b7a"
      },
      "execution_count": null,
      "outputs": [
        {
          "output_type": "execute_result",
          "data": {
            "text/plain": [
              "784"
            ]
          },
          "metadata": {},
          "execution_count": 12
        }
      ]
    },
    {
      "cell_type": "code",
      "source": [],
      "metadata": {
        "colab": {
          "base_uri": "https://localhost:8080/",
          "height": 141
        },
        "id": "JwjyZBOrvmzY",
        "outputId": "aec74b48-0cfb-4488-aaf0-c4d78329ba4f"
      },
      "execution_count": null,
      "outputs": [
        {
          "output_type": "error",
          "ename": "AttributeError",
          "evalue": "'DataLoader' object has no attribute 'size'",
          "traceback": [
            "\u001b[0;31m---------------------------------------------------------------------------\u001b[0m",
            "\u001b[0;31mAttributeError\u001b[0m                            Traceback (most recent call last)",
            "\u001b[0;32m<ipython-input-19-b7d5f4458461>\u001b[0m in \u001b[0;36m<cell line: 1>\u001b[0;34m()\u001b[0m\n\u001b[0;32m----> 1\u001b[0;31m \u001b[0mtrain_loader\u001b[0m\u001b[0;34m.\u001b[0m\u001b[0msize\u001b[0m\u001b[0;34m(\u001b[0m\u001b[0;34m)\u001b[0m\u001b[0;34m\u001b[0m\u001b[0;34m\u001b[0m\u001b[0m\n\u001b[0m",
            "\u001b[0;31mAttributeError\u001b[0m: 'DataLoader' object has no attribute 'size'"
          ]
        }
      ]
    },
    {
      "cell_type": "code",
      "source": [],
      "metadata": {
        "id": "nl2HNMBz3J4-"
      },
      "execution_count": null,
      "outputs": []
    }
  ]
}